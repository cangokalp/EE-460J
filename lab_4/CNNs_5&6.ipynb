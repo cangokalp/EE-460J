{
  "nbformat": 4,
  "nbformat_minor": 0,
  "metadata": {
    "kernelspec": {
      "display_name": "ds_lab",
      "language": "python",
      "name": "ds_lab"
    },
    "language_info": {
      "codemirror_mode": {
        "name": "ipython",
        "version": 3
      },
      "file_extension": ".py",
      "mimetype": "text/x-python",
      "name": "python",
      "nbconvert_exporter": "python",
      "pygments_lexer": "ipython3",
      "version": "3.7.9"
    },
    "colab": {
      "name": "CNNs_5&6.ipynb",
      "provenance": []
    }
  },
  "cells": [
    {
      "cell_type": "code",
      "metadata": {
        "id": "P-MY5Yh5SVFW"
      },
      "source": [
        "import pandas as pd\n",
        "import seaborn as sns\n",
        "import numpy as np\n",
        "import sklearn\n",
        "import os\n",
        "\n",
        "%matplotlib inline\n",
        "import matplotlib as mpl\n",
        "import matplotlib.pyplot as plt\n",
        "mpl.rc('axes', labelsize=14)\n",
        "mpl.rc('xtick', labelsize=12)\n",
        "mpl.rc('ytick', labelsize=12)"
      ],
      "execution_count": 1,
      "outputs": []
    },
    {
      "cell_type": "code",
      "metadata": {
        "id": "mSCYqu4FSVFh"
      },
      "source": [
        "# from sklearn.datasets import fetch_openml\n",
        "# mnist = fetch_openml('mnist_784', version=1)\n",
        "# mnist.keys()"
      ],
      "execution_count": 2,
      "outputs": []
    },
    {
      "cell_type": "code",
      "metadata": {
        "id": "n4ysaeCwSVFn"
      },
      "source": [
        "# X, y = mnist['data'], mnist['target']"
      ],
      "execution_count": 3,
      "outputs": []
    },
    {
      "cell_type": "code",
      "metadata": {
        "id": "zTFD8-iuSVFs"
      },
      "source": [
        "# from sklearn.model_selection import train_test_split\n",
        "# X_train, X_test, y_train, y_test = train_test_split(X, y, test_size=1/7, random_state=42)"
      ],
      "execution_count": 4,
      "outputs": []
    },
    {
      "cell_type": "markdown",
      "metadata": {
        "id": "NcS-9_kbmZ5t"
      },
      "source": [
        "### Getting Started with Pytorch"
      ]
    },
    {
      "cell_type": "code",
      "metadata": {
        "id": "xkP-ND5AeCjK"
      },
      "source": [
        "from pathlib import Path\n",
        "import requests\n",
        "\n",
        "DATA_PATH = Path(\"data\")\n",
        "PATH = DATA_PATH / \"mnist\"\n",
        "\n",
        "PATH.mkdir(parents=True, exist_ok=True)\n",
        "\n",
        "URL = \"http://deeplearning.net/data/mnist/\"\n",
        "FILENAME = \"mnist.pkl.gz\"\n",
        "\n",
        "if not (PATH / FILENAME).exists():\n",
        "        content = requests.get(URL + FILENAME).content\n",
        "        (PATH / FILENAME).open(\"wb\").write(content)\n"
      ],
      "execution_count": 5,
      "outputs": []
    },
    {
      "cell_type": "code",
      "metadata": {
        "id": "FlnUV_4ceDm7"
      },
      "source": [
        "import pickle\n",
        "import gzip\n",
        "\n",
        "with gzip.open((PATH / FILENAME).as_posix(), \"rb\") as f:\n",
        "        ((X_train, y_train), (X_test, y_test), _) = pickle.load(f, encoding=\"latin-1\")"
      ],
      "execution_count": 6,
      "outputs": []
    },
    {
      "cell_type": "code",
      "metadata": {
        "id": "zn3PkdT4SVFw"
      },
      "source": [
        "import torch\n",
        "\n",
        "X_train = (X_train/255. - 0.5) / 0.5\n",
        "X_test = (X_test/255. - 0.5) / 0.5\n",
        "\n",
        "# y_train = y_train.astype(np.float32)\n",
        "# y_test = y_test.astype(np.float32)\n",
        "\n",
        "X_train, y_train, X_test, y_test = map(\n",
        "    torch.tensor, (X_train, y_train, X_test, y_test)\n",
        ")\n",
        "\n",
        "# X_train = X_train.type(torch.long)\n",
        "# X_test = X_test.type(torch.long)\n",
        "# y_train = y_train.type(torch.long)\n",
        "# y_test = y_test.type(torch.long)\n",
        "\n",
        "\n",
        "bs = 64"
      ],
      "execution_count": 7,
      "outputs": []
    },
    {
      "cell_type": "code",
      "metadata": {
        "id": "uW-JA5YGSVF0"
      },
      "source": [
        "from torch.utils.data import TensorDataset\n",
        "\n",
        "train_ds = TensorDataset(X_train, y_train)\n",
        "test_ds = TensorDataset(X_test, y_test)"
      ],
      "execution_count": 8,
      "outputs": []
    },
    {
      "cell_type": "code",
      "metadata": {
        "id": "AZgzidixSVF3"
      },
      "source": [
        "from torch.utils.data import DataLoader\n",
        "\n",
        "def get_data(train_ds, test_ds, bs=64):\n",
        "    return (\n",
        "        DataLoader(train_ds, batch_size=bs, shuffle=True),\n",
        "        DataLoader(test_ds, batch_size=bs * 2),\n",
        "    )"
      ],
      "execution_count": 9,
      "outputs": []
    },
    {
      "cell_type": "code",
      "metadata": {
        "id": "yd4jqMBPSVF7"
      },
      "source": [
        "train_dl, test_dl = get_data(train_ds, test_ds)"
      ],
      "execution_count": 10,
      "outputs": []
    },
    {
      "cell_type": "code",
      "metadata": {
        "id": "OI3RMw-uSVF_"
      },
      "source": [
        "import torch.nn.functional as F\n",
        "from torch import nn\n",
        "\n",
        "loss_func = F.cross_entropy\n",
        "# loss_func = nn.CrossEntropyLoss()"
      ],
      "execution_count": 11,
      "outputs": []
    },
    {
      "cell_type": "code",
      "metadata": {
        "id": "9X3Fv0CBh8kY"
      },
      "source": [
        "def accuracy(out, yb):\n",
        "    preds = torch.argmax(out, dim=1)\n",
        "    return (preds == yb).float().mean()"
      ],
      "execution_count": 12,
      "outputs": []
    },
    {
      "cell_type": "code",
      "metadata": {
        "id": "_Uo-b4y2SVGC"
      },
      "source": [
        "def loss_batch(model, loss_func, xb, yb, opt=None):\n",
        "    loss = loss_func(model(xb), yb)\n",
        "\n",
        "    if opt is not None:\n",
        "        loss.backward()\n",
        "        opt.step()\n",
        "        opt.zero_grad()\n",
        "\n",
        "    return loss.item(), len(xb)"
      ],
      "execution_count": 13,
      "outputs": []
    },
    {
      "cell_type": "code",
      "metadata": {
        "id": "objy4wZPSVGE"
      },
      "source": [
        "def preprocess(x, y):\n",
        "    return x.view(-1, 1, 28, 28), y\n",
        "\n",
        "\n",
        "class WrappedDataLoader:\n",
        "    def __init__(self, dl, func):\n",
        "        self.dl = dl\n",
        "        self.func = func\n",
        "\n",
        "    def __len__(self):\n",
        "        return len(self.dl)\n",
        "\n",
        "    def __iter__(self):\n",
        "        batches = iter(self.dl)\n",
        "        for b in batches:\n",
        "            yield (self.func(*b))\n",
        "\n",
        "train_dl = WrappedDataLoader(train_dl, preprocess)\n",
        "test_dl = WrappedDataLoader(test_dl, preprocess)"
      ],
      "execution_count": 14,
      "outputs": []
    },
    {
      "cell_type": "code",
      "metadata": {
        "id": "6AU4a8UBSVGG"
      },
      "source": [
        "from IPython.core.debugger import set_trace\n",
        "\n",
        "import numpy as np\n",
        "\n",
        "\n",
        "def fit(epochs, model, loss_func, opt, train_dl, valid_dl, c=3, p=32):\n",
        "    epoch_train_loss = []\n",
        "    epoch_train_acc = []\n",
        "    epoch_test_loss = []\n",
        "    epoch_test_acc = []\n",
        "    \n",
        "\n",
        "    for epoch in range(epochs):\n",
        "        model.train()\n",
        "        train_losses = []\n",
        "        train_nums = []\n",
        "        train_accs = []\n",
        "        for xb, yb in train_dl:\n",
        "            losses, nums = loss_batch(model, loss_func, xb, yb, opt)\n",
        "            train_accs.append(accuracy(model(xb), yb))\n",
        "            train_losses.append(losses)\n",
        "            train_nums.append(nums)\n",
        "        train_loss = np.sum(np.multiply(np.array(train_losses), np.array(train_nums))) / np.sum(train_nums)\n",
        "        epoch_train_loss.append(train_loss)\n",
        "        train_acc = np.sum(np.multiply(np.array(train_accs), np.array(train_nums))) / np.sum(train_nums)\n",
        "        epoch_train_acc.append(train_acc)\n",
        "\n",
        "        model.eval()\n",
        "        with torch.no_grad():\n",
        "            losses, nums = zip(\n",
        "                *[loss_batch(model, loss_func, xb, yb) for xb, yb in test_dl]\n",
        "            )\n",
        "            accuracies = [accuracy(model(xb), yb) for xb, yb in test_dl]\n",
        "        val_loss = np.sum(np.multiply(losses, nums)) / np.sum(nums)\n",
        "        epoch_test_loss.append(val_loss)\n",
        "        val_acc = np.sum(np.multiply(accuracies, nums)) / np.sum(nums)\n",
        "        epoch_test_acc.append(val_acc)\n",
        "        \n",
        "        print('epoch #: {}, train_loss: {}, val_loss: {}'.format(epoch, train_loss, val_loss))\n",
        "        print('train_accuracy: {}, val_accuracy: {}'.format(train_acc, val_acc))\n",
        "        print('=======================================')\n",
        "\n",
        "    return epoch_train_loss, epoch_test_loss\n"
      ],
      "execution_count": 83,
      "outputs": []
    },
    {
      "cell_type": "code",
      "metadata": {
        "id": "NS3taHWtcyiD"
      },
      "source": [
        "\n",
        "\n",
        "class Lambda(nn.Module):\n",
        "    def __init__(self, func):\n",
        "        super().__init__()\n",
        "        self.func = func\n",
        "\n",
        "    def forward(self, x):\n",
        "        return self.func(x)"
      ],
      "execution_count": 16,
      "outputs": []
    },
    {
      "cell_type": "code",
      "metadata": {
        "id": "eaLFx2d5SVGJ",
        "outputId": "bf6b84df-82de-490c-9883-993755641d7f",
        "colab": {
          "base_uri": "https://localhost:8080/",
          "height": 358
        }
      },
      "source": [
        "model = nn.Sequential(\n",
        "    nn.Conv2d(1, 16, kernel_size=3, stride=1, padding=1),\n",
        "    nn.ReLU(),\n",
        "    nn.MaxPool2d(2),\n",
        "    nn.Conv2d(16, 16, kernel_size=3, stride=2, padding=1),\n",
        "    nn.ReLU(),\n",
        "    nn.Conv2d(16, 10, kernel_size=3, stride=2, padding=1),\n",
        "    nn.ReLU(),\n",
        "    nn.AdaptiveAvgPool2d(1),\n",
        "    # Lambda(lambda x: x.view(x.size(0), -1)),\n",
        "    nn.Flatten(),\n",
        ")\n",
        "\n",
        "from torch import optim\n",
        "\n",
        "lr = 0.5  # learning rate\n",
        "epochs = 15\n",
        "opt = optim.SGD(model.parameters(), lr=lr, momentum=0.9)\n",
        "\n",
        "fit(epochs, model, loss_func, opt, train_dl, test_dl, c=1, p=28)"
      ],
      "execution_count": 17,
      "outputs": [
        {
          "output_type": "stream",
          "text": [
            "epoch #: 0, train_loss: 1.2238200718688965, val_loss: 0.8477772963047028\n"
          ],
          "name": "stdout"
        },
        {
          "output_type": "error",
          "ename": "KeyboardInterrupt",
          "evalue": "ignored",
          "traceback": [
            "\u001b[0;31m---------------------------------------------------------------------------\u001b[0m",
            "\u001b[0;31mKeyboardInterrupt\u001b[0m                         Traceback (most recent call last)",
            "\u001b[0;32m<ipython-input-17-1c254a9f27fe>\u001b[0m in \u001b[0;36m<module>\u001b[0;34m()\u001b[0m\n\u001b[1;32m     18\u001b[0m \u001b[0mopt\u001b[0m \u001b[0;34m=\u001b[0m \u001b[0moptim\u001b[0m\u001b[0;34m.\u001b[0m\u001b[0mSGD\u001b[0m\u001b[0;34m(\u001b[0m\u001b[0mmodel\u001b[0m\u001b[0;34m.\u001b[0m\u001b[0mparameters\u001b[0m\u001b[0;34m(\u001b[0m\u001b[0;34m)\u001b[0m\u001b[0;34m,\u001b[0m \u001b[0mlr\u001b[0m\u001b[0;34m=\u001b[0m\u001b[0mlr\u001b[0m\u001b[0;34m,\u001b[0m \u001b[0mmomentum\u001b[0m\u001b[0;34m=\u001b[0m\u001b[0;36m0.9\u001b[0m\u001b[0;34m)\u001b[0m\u001b[0;34m\u001b[0m\u001b[0;34m\u001b[0m\u001b[0m\n\u001b[1;32m     19\u001b[0m \u001b[0;34m\u001b[0m\u001b[0m\n\u001b[0;32m---> 20\u001b[0;31m \u001b[0mfit\u001b[0m\u001b[0;34m(\u001b[0m\u001b[0mepochs\u001b[0m\u001b[0;34m,\u001b[0m \u001b[0mmodel\u001b[0m\u001b[0;34m,\u001b[0m \u001b[0mloss_func\u001b[0m\u001b[0;34m,\u001b[0m \u001b[0mopt\u001b[0m\u001b[0;34m,\u001b[0m \u001b[0mtrain_dl\u001b[0m\u001b[0;34m,\u001b[0m \u001b[0mtest_dl\u001b[0m\u001b[0;34m,\u001b[0m \u001b[0mc\u001b[0m\u001b[0;34m=\u001b[0m\u001b[0;36m1\u001b[0m\u001b[0;34m,\u001b[0m \u001b[0mp\u001b[0m\u001b[0;34m=\u001b[0m\u001b[0;36m28\u001b[0m\u001b[0;34m)\u001b[0m\u001b[0;34m\u001b[0m\u001b[0;34m\u001b[0m\u001b[0m\n\u001b[0m",
            "\u001b[0;32m<ipython-input-15-a77a56e9dd7a>\u001b[0m in \u001b[0;36mfit\u001b[0;34m(epochs, model, loss_func, opt, train_dl, valid_dl, c, p)\u001b[0m\n\u001b[1;32m     29\u001b[0m \u001b[0;34m\u001b[0m\u001b[0m\n\u001b[1;32m     30\u001b[0m         \u001b[0mprint\u001b[0m\u001b[0;34m(\u001b[0m\u001b[0;34m'epoch #: {}, train_loss: {}, val_loss: {}'\u001b[0m\u001b[0;34m.\u001b[0m\u001b[0mformat\u001b[0m\u001b[0;34m(\u001b[0m\u001b[0mepoch\u001b[0m\u001b[0;34m,\u001b[0m \u001b[0mtrain_loss\u001b[0m\u001b[0;34m,\u001b[0m \u001b[0mval_loss\u001b[0m\u001b[0;34m)\u001b[0m\u001b[0;34m)\u001b[0m\u001b[0;34m\u001b[0m\u001b[0;34m\u001b[0m\u001b[0m\n\u001b[0;32m---> 31\u001b[0;31m         \u001b[0mprint\u001b[0m\u001b[0;34m(\u001b[0m\u001b[0;34m'train_accuracy: {}, val_accuracy: {}'\u001b[0m\u001b[0;34m.\u001b[0m\u001b[0mformat\u001b[0m\u001b[0;34m(\u001b[0m\u001b[0maccuracy\u001b[0m\u001b[0;34m(\u001b[0m\u001b[0mmodel\u001b[0m\u001b[0;34m(\u001b[0m\u001b[0mX_train\u001b[0m\u001b[0;34m.\u001b[0m\u001b[0mview\u001b[0m\u001b[0;34m(\u001b[0m\u001b[0;34m-\u001b[0m\u001b[0;36m1\u001b[0m\u001b[0;34m,\u001b[0m\u001b[0mc\u001b[0m\u001b[0;34m,\u001b[0m\u001b[0mp\u001b[0m\u001b[0;34m,\u001b[0m\u001b[0mp\u001b[0m\u001b[0;34m)\u001b[0m\u001b[0;34m)\u001b[0m\u001b[0;34m,\u001b[0m \u001b[0my_train\u001b[0m\u001b[0;34m)\u001b[0m\u001b[0;34m,\u001b[0m \u001b[0maccuracy\u001b[0m\u001b[0;34m(\u001b[0m\u001b[0mmodel\u001b[0m\u001b[0;34m(\u001b[0m\u001b[0mX_test\u001b[0m\u001b[0;34m.\u001b[0m\u001b[0mview\u001b[0m\u001b[0;34m(\u001b[0m\u001b[0;34m-\u001b[0m\u001b[0;36m1\u001b[0m\u001b[0;34m,\u001b[0m\u001b[0mc\u001b[0m\u001b[0;34m,\u001b[0m\u001b[0mp\u001b[0m\u001b[0;34m,\u001b[0m\u001b[0mp\u001b[0m\u001b[0;34m)\u001b[0m\u001b[0;34m)\u001b[0m\u001b[0;34m,\u001b[0m \u001b[0my_test\u001b[0m\u001b[0;34m)\u001b[0m\u001b[0;34m)\u001b[0m\u001b[0;34m)\u001b[0m\u001b[0;34m\u001b[0m\u001b[0;34m\u001b[0m\u001b[0m\n\u001b[0m\u001b[1;32m     32\u001b[0m         \u001b[0mprint\u001b[0m\u001b[0;34m(\u001b[0m\u001b[0;34m'======================================='\u001b[0m\u001b[0;34m)\u001b[0m\u001b[0;34m\u001b[0m\u001b[0;34m\u001b[0m\u001b[0m\n\u001b[1;32m     33\u001b[0m \u001b[0;34m\u001b[0m\u001b[0m\n",
            "\u001b[0;32m/usr/local/lib/python3.6/dist-packages/torch/nn/modules/module.py\u001b[0m in \u001b[0;36m_call_impl\u001b[0;34m(self, *input, **kwargs)\u001b[0m\n\u001b[1;32m    720\u001b[0m             \u001b[0mresult\u001b[0m \u001b[0;34m=\u001b[0m \u001b[0mself\u001b[0m\u001b[0;34m.\u001b[0m\u001b[0m_slow_forward\u001b[0m\u001b[0;34m(\u001b[0m\u001b[0;34m*\u001b[0m\u001b[0minput\u001b[0m\u001b[0;34m,\u001b[0m \u001b[0;34m**\u001b[0m\u001b[0mkwargs\u001b[0m\u001b[0;34m)\u001b[0m\u001b[0;34m\u001b[0m\u001b[0;34m\u001b[0m\u001b[0m\n\u001b[1;32m    721\u001b[0m         \u001b[0;32melse\u001b[0m\u001b[0;34m:\u001b[0m\u001b[0;34m\u001b[0m\u001b[0;34m\u001b[0m\u001b[0m\n\u001b[0;32m--> 722\u001b[0;31m             \u001b[0mresult\u001b[0m \u001b[0;34m=\u001b[0m \u001b[0mself\u001b[0m\u001b[0;34m.\u001b[0m\u001b[0mforward\u001b[0m\u001b[0;34m(\u001b[0m\u001b[0;34m*\u001b[0m\u001b[0minput\u001b[0m\u001b[0;34m,\u001b[0m \u001b[0;34m**\u001b[0m\u001b[0mkwargs\u001b[0m\u001b[0;34m)\u001b[0m\u001b[0;34m\u001b[0m\u001b[0;34m\u001b[0m\u001b[0m\n\u001b[0m\u001b[1;32m    723\u001b[0m         for hook in itertools.chain(\n\u001b[1;32m    724\u001b[0m                 \u001b[0m_global_forward_hooks\u001b[0m\u001b[0;34m.\u001b[0m\u001b[0mvalues\u001b[0m\u001b[0;34m(\u001b[0m\u001b[0;34m)\u001b[0m\u001b[0;34m,\u001b[0m\u001b[0;34m\u001b[0m\u001b[0;34m\u001b[0m\u001b[0m\n",
            "\u001b[0;32m/usr/local/lib/python3.6/dist-packages/torch/nn/modules/container.py\u001b[0m in \u001b[0;36mforward\u001b[0;34m(self, input)\u001b[0m\n\u001b[1;32m    115\u001b[0m     \u001b[0;32mdef\u001b[0m \u001b[0mforward\u001b[0m\u001b[0;34m(\u001b[0m\u001b[0mself\u001b[0m\u001b[0;34m,\u001b[0m \u001b[0minput\u001b[0m\u001b[0;34m)\u001b[0m\u001b[0;34m:\u001b[0m\u001b[0;34m\u001b[0m\u001b[0;34m\u001b[0m\u001b[0m\n\u001b[1;32m    116\u001b[0m         \u001b[0;32mfor\u001b[0m \u001b[0mmodule\u001b[0m \u001b[0;32min\u001b[0m \u001b[0mself\u001b[0m\u001b[0;34m:\u001b[0m\u001b[0;34m\u001b[0m\u001b[0;34m\u001b[0m\u001b[0m\n\u001b[0;32m--> 117\u001b[0;31m             \u001b[0minput\u001b[0m \u001b[0;34m=\u001b[0m \u001b[0mmodule\u001b[0m\u001b[0;34m(\u001b[0m\u001b[0minput\u001b[0m\u001b[0;34m)\u001b[0m\u001b[0;34m\u001b[0m\u001b[0;34m\u001b[0m\u001b[0m\n\u001b[0m\u001b[1;32m    118\u001b[0m         \u001b[0;32mreturn\u001b[0m \u001b[0minput\u001b[0m\u001b[0;34m\u001b[0m\u001b[0;34m\u001b[0m\u001b[0m\n\u001b[1;32m    119\u001b[0m \u001b[0;34m\u001b[0m\u001b[0m\n",
            "\u001b[0;32m/usr/local/lib/python3.6/dist-packages/torch/nn/modules/module.py\u001b[0m in \u001b[0;36m_call_impl\u001b[0;34m(self, *input, **kwargs)\u001b[0m\n\u001b[1;32m    720\u001b[0m             \u001b[0mresult\u001b[0m \u001b[0;34m=\u001b[0m \u001b[0mself\u001b[0m\u001b[0;34m.\u001b[0m\u001b[0m_slow_forward\u001b[0m\u001b[0;34m(\u001b[0m\u001b[0;34m*\u001b[0m\u001b[0minput\u001b[0m\u001b[0;34m,\u001b[0m \u001b[0;34m**\u001b[0m\u001b[0mkwargs\u001b[0m\u001b[0;34m)\u001b[0m\u001b[0;34m\u001b[0m\u001b[0;34m\u001b[0m\u001b[0m\n\u001b[1;32m    721\u001b[0m         \u001b[0;32melse\u001b[0m\u001b[0;34m:\u001b[0m\u001b[0;34m\u001b[0m\u001b[0;34m\u001b[0m\u001b[0m\n\u001b[0;32m--> 722\u001b[0;31m             \u001b[0mresult\u001b[0m \u001b[0;34m=\u001b[0m \u001b[0mself\u001b[0m\u001b[0;34m.\u001b[0m\u001b[0mforward\u001b[0m\u001b[0;34m(\u001b[0m\u001b[0;34m*\u001b[0m\u001b[0minput\u001b[0m\u001b[0;34m,\u001b[0m \u001b[0;34m**\u001b[0m\u001b[0mkwargs\u001b[0m\u001b[0;34m)\u001b[0m\u001b[0;34m\u001b[0m\u001b[0;34m\u001b[0m\u001b[0m\n\u001b[0m\u001b[1;32m    723\u001b[0m         for hook in itertools.chain(\n\u001b[1;32m    724\u001b[0m                 \u001b[0m_global_forward_hooks\u001b[0m\u001b[0;34m.\u001b[0m\u001b[0mvalues\u001b[0m\u001b[0;34m(\u001b[0m\u001b[0;34m)\u001b[0m\u001b[0;34m,\u001b[0m\u001b[0;34m\u001b[0m\u001b[0;34m\u001b[0m\u001b[0m\n",
            "\u001b[0;32m/usr/local/lib/python3.6/dist-packages/torch/nn/modules/conv.py\u001b[0m in \u001b[0;36mforward\u001b[0;34m(self, input)\u001b[0m\n\u001b[1;32m    417\u001b[0m \u001b[0;34m\u001b[0m\u001b[0m\n\u001b[1;32m    418\u001b[0m     \u001b[0;32mdef\u001b[0m \u001b[0mforward\u001b[0m\u001b[0;34m(\u001b[0m\u001b[0mself\u001b[0m\u001b[0;34m,\u001b[0m \u001b[0minput\u001b[0m\u001b[0;34m:\u001b[0m \u001b[0mTensor\u001b[0m\u001b[0;34m)\u001b[0m \u001b[0;34m->\u001b[0m \u001b[0mTensor\u001b[0m\u001b[0;34m:\u001b[0m\u001b[0;34m\u001b[0m\u001b[0;34m\u001b[0m\u001b[0m\n\u001b[0;32m--> 419\u001b[0;31m         \u001b[0;32mreturn\u001b[0m \u001b[0mself\u001b[0m\u001b[0;34m.\u001b[0m\u001b[0m_conv_forward\u001b[0m\u001b[0;34m(\u001b[0m\u001b[0minput\u001b[0m\u001b[0;34m,\u001b[0m \u001b[0mself\u001b[0m\u001b[0;34m.\u001b[0m\u001b[0mweight\u001b[0m\u001b[0;34m)\u001b[0m\u001b[0;34m\u001b[0m\u001b[0;34m\u001b[0m\u001b[0m\n\u001b[0m\u001b[1;32m    420\u001b[0m \u001b[0;34m\u001b[0m\u001b[0m\n\u001b[1;32m    421\u001b[0m \u001b[0;32mclass\u001b[0m \u001b[0mConv3d\u001b[0m\u001b[0;34m(\u001b[0m\u001b[0m_ConvNd\u001b[0m\u001b[0;34m)\u001b[0m\u001b[0;34m:\u001b[0m\u001b[0;34m\u001b[0m\u001b[0;34m\u001b[0m\u001b[0m\n",
            "\u001b[0;32m/usr/local/lib/python3.6/dist-packages/torch/nn/modules/conv.py\u001b[0m in \u001b[0;36m_conv_forward\u001b[0;34m(self, input, weight)\u001b[0m\n\u001b[1;32m    414\u001b[0m                             _pair(0), self.dilation, self.groups)\n\u001b[1;32m    415\u001b[0m         return F.conv2d(input, weight, self.bias, self.stride,\n\u001b[0;32m--> 416\u001b[0;31m                         self.padding, self.dilation, self.groups)\n\u001b[0m\u001b[1;32m    417\u001b[0m \u001b[0;34m\u001b[0m\u001b[0m\n\u001b[1;32m    418\u001b[0m     \u001b[0;32mdef\u001b[0m \u001b[0mforward\u001b[0m\u001b[0;34m(\u001b[0m\u001b[0mself\u001b[0m\u001b[0;34m,\u001b[0m \u001b[0minput\u001b[0m\u001b[0;34m:\u001b[0m \u001b[0mTensor\u001b[0m\u001b[0;34m)\u001b[0m \u001b[0;34m->\u001b[0m \u001b[0mTensor\u001b[0m\u001b[0;34m:\u001b[0m\u001b[0;34m\u001b[0m\u001b[0;34m\u001b[0m\u001b[0m\n",
            "\u001b[0;31mKeyboardInterrupt\u001b[0m: "
          ]
        }
      ]
    },
    {
      "cell_type": "markdown",
      "metadata": {
        "id": "Q4U0MCN7md64"
      },
      "source": [
        "### CNNs for CIFAR-10"
      ]
    },
    {
      "cell_type": "code",
      "metadata": {
        "id": "vbeHr8H7SVGL",
        "outputId": "8fefbc2d-5a8d-4e8b-8062-188d5f55f521",
        "colab": {
          "base_uri": "https://localhost:8080/",
          "height": 34
        }
      },
      "source": [
        "from sklearn.datasets import fetch_openml\n",
        "cifar_10_small = fetch_openml('CIFAR_10_Small', version=1)\n",
        "cifar_10_small.keys()"
      ],
      "execution_count": 18,
      "outputs": [
        {
          "output_type": "execute_result",
          "data": {
            "text/plain": [
              "dict_keys(['data', 'target', 'frame', 'feature_names', 'target_names', 'DESCR', 'details', 'categories', 'url'])"
            ]
          },
          "metadata": {
            "tags": []
          },
          "execution_count": 18
        }
      ]
    },
    {
      "cell_type": "code",
      "metadata": {
        "id": "n4UAm6_WSVGN"
      },
      "source": [
        "X, y = cifar_10_small['data'], cifar_10_small['target']"
      ],
      "execution_count": 92,
      "outputs": []
    },
    {
      "cell_type": "code",
      "metadata": {
        "id": "U4OzI0bR02pr",
        "outputId": "d0543800-cc98-40c2-dbf5-6db754b91f8f",
        "colab": {
          "base_uri": "https://localhost:8080/",
          "height": 34
        }
      },
      "source": [
        "X.shape"
      ],
      "execution_count": 98,
      "outputs": [
        {
          "output_type": "execute_result",
          "data": {
            "text/plain": [
              "(20000, 3072)"
            ]
          },
          "metadata": {
            "tags": []
          },
          "execution_count": 98
        }
      ]
    },
    {
      "cell_type": "code",
      "metadata": {
        "id": "uGV0Lsl1WzrD"
      },
      "source": [
        "from sklearn.model_selection import train_test_split\n",
        "X_train_cifar, X_test_cifar, y_train_cifar, y_test_cifar = train_test_split(X, y, test_size=0.25, random_state=42)"
      ],
      "execution_count": 111,
      "outputs": []
    },
    {
      "cell_type": "code",
      "metadata": {
        "id": "p43ptdJEquy7"
      },
      "source": [
        "# import torchvision\n",
        "# import torchvision.transforms as transforms\n",
        "\n",
        "# transform = transforms.Compose(\n",
        "#     [transforms.ToTensor(),\n",
        "#      transforms.Normalize((0.5, 0.5, 0.5), (0.5, 0.5, 0.5))])"
      ],
      "execution_count": 112,
      "outputs": []
    },
    {
      "cell_type": "code",
      "metadata": {
        "id": "z36p8VfzTexu",
        "outputId": "44af4dfc-40c4-4e7d-ff53-19b1acdb0f23",
        "colab": {
          "base_uri": "https://localhost:8080/",
          "height": 238
        }
      },
      "source": [
        "\n",
        "X_train_cifar /= 255.\n",
        "X_test_cifar /= 255.\n",
        "X_train_cifar"
      ],
      "execution_count": 113,
      "outputs": [
        {
          "output_type": "execute_result",
          "data": {
            "text/plain": [
              "array([[0.3372549 , 0.32156863, 0.28627451, ..., 0.56470588, 0.56862745,\n",
              "        0.59215686],\n",
              "       [0.00784314, 0.00784314, 0.01176471, ..., 0.30980392, 0.31372549,\n",
              "        0.31764706],\n",
              "       [0.69803922, 0.69019608, 0.69411765, ..., 0.83137255, 0.8       ,\n",
              "        0.78039216],\n",
              "       ...,\n",
              "       [0.6       , 0.61960784, 0.65882353, ..., 0.82745098, 0.82352941,\n",
              "        0.8       ],\n",
              "       [1.        , 1.        , 1.        , ..., 0.21960784, 0.23137255,\n",
              "        0.23921569],\n",
              "       [0.37254902, 0.37647059, 0.36862745, ..., 0.37254902, 0.36862745,\n",
              "        0.36470588]])"
            ]
          },
          "metadata": {
            "tags": []
          },
          "execution_count": 113
        }
      ]
    },
    {
      "cell_type": "code",
      "metadata": {
        "id": "pEaNsCx-kavs"
      },
      "source": [
        "import torch\n",
        "\n",
        "X_train_cifar = (X_train_cifar - 0.5) / 0.5\n",
        "X_test_cifar = (X_test_cifar - 0.5) / 0.5\n",
        "\n",
        "y_train_cifar = y_train_cifar.astype(np.float32)\n",
        "y_test_cifar = y_test_cifar.astype(np.float32)\n",
        "\n",
        "X_train_cifar, y_train_cifar, X_test_cifar, y_test_cifar = map(\n",
        "    torch.tensor, (X_train_cifar, y_train_cifar, X_test_cifar, y_test_cifar)\n",
        ")\n",
        "\n",
        "\n",
        "X_train_cifar = X_train_cifar.type(torch.float32)\n",
        "X_test_cifar = X_test_cifar.type(torch.float32)\n",
        "y_train_cifar = y_train_cifar.type(torch.float32)\n",
        "y_test_cifar = y_test_cifar.type(torch.float32)\n",
        "\n",
        "bs = 64"
      ],
      "execution_count": 114,
      "outputs": []
    },
    {
      "cell_type": "code",
      "metadata": {
        "id": "kKbnEQfnNksm",
        "outputId": "87e68e92-a79a-4c8d-c173-04d245fff96c",
        "colab": {
          "base_uri": "https://localhost:8080/",
          "height": 136
        }
      },
      "source": [
        "X_train_cifar"
      ],
      "execution_count": 115,
      "outputs": [
        {
          "output_type": "execute_result",
          "data": {
            "text/plain": [
              "tensor([[-0.3255, -0.3569, -0.4275,  ...,  0.1294,  0.1373,  0.1843],\n",
              "        [-0.9843, -0.9843, -0.9765,  ..., -0.3804, -0.3725, -0.3647],\n",
              "        [ 0.3961,  0.3804,  0.3882,  ...,  0.6627,  0.6000,  0.5608],\n",
              "        ...,\n",
              "        [ 0.2000,  0.2392,  0.3176,  ...,  0.6549,  0.6471,  0.6000],\n",
              "        [ 1.0000,  1.0000,  1.0000,  ..., -0.5608, -0.5373, -0.5216],\n",
              "        [-0.2549, -0.2471, -0.2627,  ..., -0.2549, -0.2627, -0.2706]])"
            ]
          },
          "metadata": {
            "tags": []
          },
          "execution_count": 115
        }
      ]
    },
    {
      "cell_type": "code",
      "metadata": {
        "id": "JCPKcbwFkfRU"
      },
      "source": [
        "train_ds = TensorDataset(X_train_cifar, y_train_cifar)\n",
        "test_ds = TensorDataset(X_test_cifar, y_test_cifar)\n",
        "\n",
        "train_dl, test_dl = get_data(train_ds, test_ds)"
      ],
      "execution_count": 116,
      "outputs": []
    },
    {
      "cell_type": "code",
      "metadata": {
        "id": "0nzI2nU8kUcK"
      },
      "source": [
        "def preprocess_cifar(x, y):\n",
        "    return x.view(-1, 3, 32, 32), y\n",
        "\n",
        "\n",
        "train_dl = WrappedDataLoader(train_dl, preprocess_cifar)\n",
        "test_dl = WrappedDataLoader(test_dl, preprocess_cifar)"
      ],
      "execution_count": 117,
      "outputs": []
    },
    {
      "cell_type": "code",
      "metadata": {
        "id": "TTHfYY-COw9B"
      },
      "source": [
        "def loss_batch(model, loss_func, xb, yb, opt=None):\n",
        "    loss = loss_func(model(xb), yb.type(torch.long))\n",
        "\n",
        "    if opt is not None:\n",
        "        loss.backward()\n",
        "        opt.step()\n",
        "        opt.zero_grad()\n",
        "\n",
        "    return loss.item(), len(xb)"
      ],
      "execution_count": 118,
      "outputs": []
    },
    {
      "cell_type": "code",
      "metadata": {
        "id": "aJTxxDYPzOQm",
        "outputId": "b747536b-630c-476e-f0c2-36e065b30571",
        "colab": {
          "base_uri": "https://localhost:8080/",
          "height": 1000
        }
      },
      "source": [
        "# model = nn.Sequential(\n",
        "#     nn.Conv2d(3, 32, kernel_size=3, stride=1, padding=1),\n",
        "#     nn.ReLU(),\n",
        "#     nn.MaxPool2d(2),\n",
        "#     nn.Conv2d(32, 64, kernel_size=3, stride=1, padding=1),\n",
        "#     nn.ReLU(),\n",
        "#     nn.MaxPool2d(2),\n",
        "#     nn.Conv2d(64, 16, kernel_size=3, stride=2, padding=1),\n",
        "#     nn.ReLU(),\n",
        "#     nn.AdaptiveAvgPool2d(1),\n",
        "#     # Lambda(lambda x: x.view(x.size(0), -1)),\n",
        "#     nn.Flatten(),\n",
        "# )\n",
        "\n",
        "import torch.nn as nn\n",
        "import torch.nn.functional as F\n",
        "\n",
        "\n",
        "class Net(nn.Module):\n",
        "    def __init__(self):\n",
        "        super(Net, self).__init__()\n",
        "        self.conv1 = nn.Conv2d(3, 32, kernel_size=3, stride=1, padding=1)\n",
        "        self.pool = nn.MaxPool2d(2)\n",
        "        self.conv2 = nn.Conv2d(32, 10, kernel_size=3, stride=1, padding=1)\n",
        "        self.avgpool = nn.AdaptiveAvgPool2d(1)\n",
        "        self.flatten = nn.Flatten()\n",
        "\n",
        "    def forward(self, x):\n",
        "        x = self.pool(F.relu(self.conv1(x)))\n",
        "        x = self.avgpool(F.relu(self.conv2(x)))\n",
        "        x = self.flatten(x)\n",
        "        return x\n",
        "\n",
        "model = Net()\n",
        "\n",
        "\n",
        "\n",
        "from torch import optim\n",
        "\n",
        "momentum = 0.9\n",
        "lr = 0.5  # learning rate\n",
        "epochs = 20\n",
        "opt = optim.SGD(model.parameters(), lr=lr, momentum=momentum)\n",
        "\n",
        "train_losses, test_losses = fit(epochs, model, loss_func, opt, train_dl, test_dl)"
      ],
      "execution_count": 120,
      "outputs": [
        {
          "output_type": "stream",
          "text": [
            "epoch #: 0, train_loss: 2.2543267957051594, val_loss: 2.202810736846924\n",
            "train_accuracy: 0.1826, val_accuracy: 0.2062\n",
            "=======================================\n",
            "epoch #: 1, train_loss: 2.173349174626668, val_loss: 2.0802667461395266\n",
            "train_accuracy: 0.22579999998410544, val_accuracy: 0.273\n",
            "=======================================\n",
            "epoch #: 2, train_loss: 2.079800208282471, val_loss: 2.065936675643921\n",
            "train_accuracy: 0.2811333333174388, val_accuracy: 0.279\n",
            "=======================================\n",
            "epoch #: 3, train_loss: 2.042386731783549, val_loss: 2.008116427230835\n",
            "train_accuracy: 0.2948666666507721, val_accuracy: 0.309\n",
            "=======================================\n",
            "epoch #: 4, train_loss: 2.027085730934143, val_loss: 2.02074681968689\n",
            "train_accuracy: 0.31, val_accuracy: 0.3014\n",
            "=======================================\n",
            "epoch #: 5, train_loss: 2.011575531133016, val_loss: 2.075202090072632\n",
            "train_accuracy: 0.3150666666507721, val_accuracy: 0.2586\n",
            "=======================================\n",
            "epoch #: 6, train_loss: 2.0022964749654135, val_loss: 1.9857430316925049\n",
            "train_accuracy: 0.3191333333492279, val_accuracy: 0.3164\n",
            "=======================================\n",
            "epoch #: 7, train_loss: 1.9911084438323974, val_loss: 2.0215638916015624\n",
            "train_accuracy: 0.32633333331743875, val_accuracy: 0.292\n",
            "=======================================\n",
            "epoch #: 8, train_loss: 1.9808523993174234, val_loss: 2.004183464050293\n",
            "train_accuracy: 0.33299999998410545, val_accuracy: 0.3142\n",
            "=======================================\n",
            "epoch #: 9, train_loss: 1.9729444516499837, val_loss: 1.9765189689636231\n",
            "train_accuracy: 0.3356000000158946, val_accuracy: 0.3284\n",
            "=======================================\n",
            "epoch #: 10, train_loss: 1.9659298871358235, val_loss: 1.9781398654937745\n",
            "train_accuracy: 0.3379333333333333, val_accuracy: 0.3288\n",
            "=======================================\n",
            "epoch #: 11, train_loss: 1.956151665496826, val_loss: 1.9508441329956054\n",
            "train_accuracy: 0.3419999999841054, val_accuracy: 0.3402\n",
            "=======================================\n",
            "epoch #: 12, train_loss: 1.9505941128412883, val_loss: 1.9598917072296143\n",
            "train_accuracy: 0.3438000000317891, val_accuracy: 0.3344\n",
            "=======================================\n",
            "epoch #: 13, train_loss: 1.9474690418243408, val_loss: 1.9895927150726318\n",
            "train_accuracy: 0.3472, val_accuracy: 0.3026\n",
            "=======================================\n",
            "epoch #: 14, train_loss: 1.9417681187311808, val_loss: 1.9791894840240478\n",
            "train_accuracy: 0.34806666665077207, val_accuracy: 0.327\n",
            "=======================================\n",
            "epoch #: 15, train_loss: 1.9132617645263672, val_loss: 1.8791900657653808\n",
            "train_accuracy: 0.3804666666666667, val_accuracy: 0.3996\n",
            "=======================================\n",
            "epoch #: 16, train_loss: 1.875239126777649, val_loss: 1.8743290138244628\n",
            "train_accuracy: 0.40020000001589456, val_accuracy: 0.3884\n",
            "=======================================\n",
            "epoch #: 17, train_loss: 1.8647233667373657, val_loss: 1.8717519649505616\n",
            "train_accuracy: 0.4048666666825612, val_accuracy: 0.3942\n",
            "=======================================\n",
            "epoch #: 18, train_loss: 1.8607873971939086, val_loss: 1.8754805446624756\n",
            "train_accuracy: 0.40660000003178914, val_accuracy: 0.3906\n",
            "=======================================\n",
            "epoch #: 19, train_loss: 1.8478621801376343, val_loss: 1.866784909439087\n",
            "train_accuracy: 0.41533333336512246, val_accuracy: 0.3944\n",
            "=======================================\n"
          ],
          "name": "stdout"
        }
      ]
    },
    {
      "cell_type": "code",
      "metadata": {
        "id": "qTgdhl9K2aHK",
        "outputId": "65c5006a-af43-45db-8571-c9e1ec2e38b2",
        "colab": {
          "base_uri": "https://localhost:8080/",
          "height": 302
        }
      },
      "source": [
        "plt.plot(train_losses, range(len(train_losses)), 'b-', label='train' )\n",
        "plt.plot(test_losses, range(len(test_losses)), 'g--', label='test')\n",
        "plt.xlabel('epoch')\n",
        "plt.ylabel('loss')\n",
        "plt.title('Model 1: train_vs_test')\n",
        "plt.legend()\n",
        "plt.show()"
      ],
      "execution_count": 121,
      "outputs": [
        {
          "output_type": "display_data",
          "data": {
            "image/png": "[encoded data removed]",
            "text/plain": [
              "<Figure size 432x288 with 1 Axes>"
            ]
          },
          "metadata": {
            "tags": [],
            "needs_background": "light"
          }
        }
      ]
    },
    {
      "cell_type": "code",
      "metadata": {
        "id": "P7ZZ71Ns09X3",
        "outputId": "568bcffa-94a1-476d-8973-81f392c9d227",
        "colab": {
          "base_uri": "https://localhost:8080/",
          "height": 477
        }
      },
      "source": [
        "model2 = nn.Sequential(\n",
        "    nn.Conv2d(3, 32, kernel_size=3, stride=1, padding=1),\n",
        "    nn.ReLU(),\n",
        "    nn.Conv2d(32, 10, kernel_size=3, stride=1, padding=1),\n",
        "    nn.ReLU(),\n",
        "    nn.MaxPool2d(2),\n",
        "    # Lambda(lambda x: x.view(x.size(0), -1)),\n",
        "    nn.Flatten(),\n",
        "    nn.Linear(10*16*16, 32),\n",
        "    nn.ReLU(),\n",
        "    nn.Linear(32, 10),\n",
        "    nn.Softmax(),\n",
        ")\n",
        "\n",
        "from torch import optim\n",
        "\n",
        "momentum = 0.9\n",
        "lr = 0.5  # learning rate\n",
        "epochs = 20\n",
        "opt = optim.SGD(model2.parameters(), lr=lr, momentum=momentum)\n",
        "\n",
        "train_losses, test_losses = fit(epochs, model2, loss_func, opt, train_dl, test_dl)"
      ],
      "execution_count": 137,
      "outputs": [
        {
          "output_type": "stream",
          "text": [
            "/usr/local/lib/python3.6/dist-packages/torch/nn/modules/container.py:117: UserWarning: Implicit dimension choice for softmax has been deprecated. Change the call to include dim=X as an argument.\n",
            "  input = module(input)\n"
          ],
          "name": "stderr"
        },
        {
          "output_type": "stream",
          "text": [
            "epoch #: 0, train_loss: 2.348312445449829, val_loss: 2.359950883483887\n",
            "train_accuracy: 0.11173333332538604, val_accuracy: 0.1012\n",
            "=======================================\n",
            "epoch #: 1, train_loss: 2.3598842149098713, val_loss: 2.359950883483887\n",
            "train_accuracy: 0.10126666666666667, val_accuracy: 0.1012\n",
            "=======================================\n"
          ],
          "name": "stdout"
        },
        {
          "output_type": "error",
          "ename": "KeyboardInterrupt",
          "evalue": "ignored",
          "traceback": [
            "\u001b[0;31m---------------------------------------------------------------------------\u001b[0m",
            "\u001b[0;31mKeyboardInterrupt\u001b[0m                         Traceback (most recent call last)",
            "\u001b[0;32m<ipython-input-137-1fce788ab18e>\u001b[0m in \u001b[0;36m<module>\u001b[0;34m()\u001b[0m\n\u001b[1;32m     20\u001b[0m \u001b[0mopt\u001b[0m \u001b[0;34m=\u001b[0m \u001b[0moptim\u001b[0m\u001b[0;34m.\u001b[0m\u001b[0mSGD\u001b[0m\u001b[0;34m(\u001b[0m\u001b[0mmodel2\u001b[0m\u001b[0;34m.\u001b[0m\u001b[0mparameters\u001b[0m\u001b[0;34m(\u001b[0m\u001b[0;34m)\u001b[0m\u001b[0;34m,\u001b[0m \u001b[0mlr\u001b[0m\u001b[0;34m=\u001b[0m\u001b[0mlr\u001b[0m\u001b[0;34m,\u001b[0m \u001b[0mmomentum\u001b[0m\u001b[0;34m=\u001b[0m\u001b[0mmomentum\u001b[0m\u001b[0;34m)\u001b[0m\u001b[0;34m\u001b[0m\u001b[0;34m\u001b[0m\u001b[0m\n\u001b[1;32m     21\u001b[0m \u001b[0;34m\u001b[0m\u001b[0m\n\u001b[0;32m---> 22\u001b[0;31m \u001b[0mtrain_losses\u001b[0m\u001b[0;34m,\u001b[0m \u001b[0mtest_losses\u001b[0m \u001b[0;34m=\u001b[0m \u001b[0mfit\u001b[0m\u001b[0;34m(\u001b[0m\u001b[0mepochs\u001b[0m\u001b[0;34m,\u001b[0m \u001b[0mmodel2\u001b[0m\u001b[0;34m,\u001b[0m \u001b[0mloss_func\u001b[0m\u001b[0;34m,\u001b[0m \u001b[0mopt\u001b[0m\u001b[0;34m,\u001b[0m \u001b[0mtrain_dl\u001b[0m\u001b[0;34m,\u001b[0m \u001b[0mtest_dl\u001b[0m\u001b[0;34m)\u001b[0m\u001b[0;34m\u001b[0m\u001b[0;34m\u001b[0m\u001b[0m\n\u001b[0m",
            "\u001b[0;32m<ipython-input-83-c9bbb6588acd>\u001b[0m in \u001b[0;36mfit\u001b[0;34m(epochs, model, loss_func, opt, train_dl, valid_dl, c, p)\u001b[0m\n\u001b[1;32m     17\u001b[0m         \u001b[0mtrain_accs\u001b[0m \u001b[0;34m=\u001b[0m \u001b[0;34m[\u001b[0m\u001b[0;34m]\u001b[0m\u001b[0;34m\u001b[0m\u001b[0;34m\u001b[0m\u001b[0m\n\u001b[1;32m     18\u001b[0m         \u001b[0;32mfor\u001b[0m \u001b[0mxb\u001b[0m\u001b[0;34m,\u001b[0m \u001b[0myb\u001b[0m \u001b[0;32min\u001b[0m \u001b[0mtrain_dl\u001b[0m\u001b[0;34m:\u001b[0m\u001b[0;34m\u001b[0m\u001b[0;34m\u001b[0m\u001b[0m\n\u001b[0;32m---> 19\u001b[0;31m             \u001b[0mlosses\u001b[0m\u001b[0;34m,\u001b[0m \u001b[0mnums\u001b[0m \u001b[0;34m=\u001b[0m \u001b[0mloss_batch\u001b[0m\u001b[0;34m(\u001b[0m\u001b[0mmodel\u001b[0m\u001b[0;34m,\u001b[0m \u001b[0mloss_func\u001b[0m\u001b[0;34m,\u001b[0m \u001b[0mxb\u001b[0m\u001b[0;34m,\u001b[0m \u001b[0myb\u001b[0m\u001b[0;34m,\u001b[0m \u001b[0mopt\u001b[0m\u001b[0;34m)\u001b[0m\u001b[0;34m\u001b[0m\u001b[0;34m\u001b[0m\u001b[0m\n\u001b[0m\u001b[1;32m     20\u001b[0m             \u001b[0mtrain_accs\u001b[0m\u001b[0;34m.\u001b[0m\u001b[0mappend\u001b[0m\u001b[0;34m(\u001b[0m\u001b[0maccuracy\u001b[0m\u001b[0;34m(\u001b[0m\u001b[0mmodel\u001b[0m\u001b[0;34m(\u001b[0m\u001b[0mxb\u001b[0m\u001b[0;34m)\u001b[0m\u001b[0;34m,\u001b[0m \u001b[0myb\u001b[0m\u001b[0;34m)\u001b[0m\u001b[0;34m)\u001b[0m\u001b[0;34m\u001b[0m\u001b[0;34m\u001b[0m\u001b[0m\n\u001b[1;32m     21\u001b[0m             \u001b[0mtrain_losses\u001b[0m\u001b[0;34m.\u001b[0m\u001b[0mappend\u001b[0m\u001b[0;34m(\u001b[0m\u001b[0mlosses\u001b[0m\u001b[0;34m)\u001b[0m\u001b[0;34m\u001b[0m\u001b[0;34m\u001b[0m\u001b[0m\n",
            "\u001b[0;32m<ipython-input-118-8530c5ec1b53>\u001b[0m in \u001b[0;36mloss_batch\u001b[0;34m(model, loss_func, xb, yb, opt)\u001b[0m\n\u001b[1;32m      3\u001b[0m \u001b[0;34m\u001b[0m\u001b[0m\n\u001b[1;32m      4\u001b[0m     \u001b[0;32mif\u001b[0m \u001b[0mopt\u001b[0m \u001b[0;32mis\u001b[0m \u001b[0;32mnot\u001b[0m \u001b[0;32mNone\u001b[0m\u001b[0;34m:\u001b[0m\u001b[0;34m\u001b[0m\u001b[0;34m\u001b[0m\u001b[0m\n\u001b[0;32m----> 5\u001b[0;31m         \u001b[0mloss\u001b[0m\u001b[0;34m.\u001b[0m\u001b[0mbackward\u001b[0m\u001b[0;34m(\u001b[0m\u001b[0;34m)\u001b[0m\u001b[0;34m\u001b[0m\u001b[0;34m\u001b[0m\u001b[0m\n\u001b[0m\u001b[1;32m      6\u001b[0m         \u001b[0mopt\u001b[0m\u001b[0;34m.\u001b[0m\u001b[0mstep\u001b[0m\u001b[0;34m(\u001b[0m\u001b[0;34m)\u001b[0m\u001b[0;34m\u001b[0m\u001b[0;34m\u001b[0m\u001b[0m\n\u001b[1;32m      7\u001b[0m         \u001b[0mopt\u001b[0m\u001b[0;34m.\u001b[0m\u001b[0mzero_grad\u001b[0m\u001b[0;34m(\u001b[0m\u001b[0;34m)\u001b[0m\u001b[0;34m\u001b[0m\u001b[0;34m\u001b[0m\u001b[0m\n",
            "\u001b[0;32m/usr/local/lib/python3.6/dist-packages/torch/tensor.py\u001b[0m in \u001b[0;36mbackward\u001b[0;34m(self, gradient, retain_graph, create_graph)\u001b[0m\n\u001b[1;32m    183\u001b[0m                 \u001b[0mproducts\u001b[0m\u001b[0;34m.\u001b[0m \u001b[0mDefaults\u001b[0m \u001b[0mto\u001b[0m\u001b[0;31m \u001b[0m\u001b[0;31m`\u001b[0m\u001b[0;31m`\u001b[0m\u001b[0;32mFalse\u001b[0m\u001b[0;31m`\u001b[0m\u001b[0;31m`\u001b[0m\u001b[0;34m.\u001b[0m\u001b[0;34m\u001b[0m\u001b[0;34m\u001b[0m\u001b[0m\n\u001b[1;32m    184\u001b[0m         \"\"\"\n\u001b[0;32m--> 185\u001b[0;31m         \u001b[0mtorch\u001b[0m\u001b[0;34m.\u001b[0m\u001b[0mautograd\u001b[0m\u001b[0;34m.\u001b[0m\u001b[0mbackward\u001b[0m\u001b[0;34m(\u001b[0m\u001b[0mself\u001b[0m\u001b[0;34m,\u001b[0m \u001b[0mgradient\u001b[0m\u001b[0;34m,\u001b[0m \u001b[0mretain_graph\u001b[0m\u001b[0;34m,\u001b[0m \u001b[0mcreate_graph\u001b[0m\u001b[0;34m)\u001b[0m\u001b[0;34m\u001b[0m\u001b[0;34m\u001b[0m\u001b[0m\n\u001b[0m\u001b[1;32m    186\u001b[0m \u001b[0;34m\u001b[0m\u001b[0m\n\u001b[1;32m    187\u001b[0m     \u001b[0;32mdef\u001b[0m \u001b[0mregister_hook\u001b[0m\u001b[0;34m(\u001b[0m\u001b[0mself\u001b[0m\u001b[0;34m,\u001b[0m \u001b[0mhook\u001b[0m\u001b[0;34m)\u001b[0m\u001b[0;34m:\u001b[0m\u001b[0;34m\u001b[0m\u001b[0;34m\u001b[0m\u001b[0m\n",
            "\u001b[0;32m/usr/local/lib/python3.6/dist-packages/torch/autograd/__init__.py\u001b[0m in \u001b[0;36mbackward\u001b[0;34m(tensors, grad_tensors, retain_graph, create_graph, grad_variables)\u001b[0m\n\u001b[1;32m    125\u001b[0m     Variable._execution_engine.run_backward(\n\u001b[1;32m    126\u001b[0m         \u001b[0mtensors\u001b[0m\u001b[0;34m,\u001b[0m \u001b[0mgrad_tensors\u001b[0m\u001b[0;34m,\u001b[0m \u001b[0mretain_graph\u001b[0m\u001b[0;34m,\u001b[0m \u001b[0mcreate_graph\u001b[0m\u001b[0;34m,\u001b[0m\u001b[0;34m\u001b[0m\u001b[0;34m\u001b[0m\u001b[0m\n\u001b[0;32m--> 127\u001b[0;31m         allow_unreachable=True)  # allow_unreachable flag\n\u001b[0m\u001b[1;32m    128\u001b[0m \u001b[0;34m\u001b[0m\u001b[0m\n\u001b[1;32m    129\u001b[0m \u001b[0;34m\u001b[0m\u001b[0m\n",
            "\u001b[0;31mKeyboardInterrupt\u001b[0m: "
          ]
        }
      ]
    },
    {
      "cell_type": "code",
      "metadata": {
        "id": "v4Z1iOZ82c3l",
        "outputId": "7f74da05-c257-4075-d404-42a482ba7265",
        "colab": {
          "base_uri": "https://localhost:8080/",
          "height": 302
        }
      },
      "source": [
        "plt.plot(train_losses, range(len(train_losses)), 'b-', label='train' )\n",
        "plt.plot(test_losses, range(len(test_losses)), 'g--', label='test')\n",
        "plt.xlabel('epoch')\n",
        "plt.ylabel('loss')\n",
        "plt.title('Model 2: train_vs_test')\n",
        "plt.legend()\n",
        "plt.show()"
      ],
      "execution_count": 129,
      "outputs": [
        {
          "output_type": "display_data",
          "data": {
            "image/png": "[encoded data removed]",
            "text/plain": [
              "<Figure size 432x288 with 1 Axes>"
            ]
          },
          "metadata": {
            "tags": [],
            "needs_background": "light"
          }
        }
      ]
    },
    {
      "cell_type": "code",
      "metadata": {
        "id": "7lAkpc-y3Gsl",
        "outputId": "6415412c-e35b-46f1-b569-775f61a71a59",
        "colab": {
          "base_uri": "https://localhost:8080/",
          "height": 527
        }
      },
      "source": [
        "\n",
        "for layer in model.children():\n",
        "   if hasattr(layer, 'reset_parameters'):\n",
        "       layer.reset_parameters()\n",
        "\n",
        "\n",
        "momentum = 0.9\n",
        "lr = 0.05  # learning rate\n",
        "epochs = 10\n",
        "opt = optim.SGD(model.parameters(), lr=lr, momentum=momentum)\n",
        "\n",
        "train_losses, test_losses = fit(epochs, model, loss_func, opt, train_dl, test_dl)"
      ],
      "execution_count": 130,
      "outputs": [
        {
          "output_type": "stream",
          "text": [
            "epoch #: 0, train_loss: 2.1813290364583335, val_loss: 2.10813876953125\n",
            "train_accuracy: 0.2147999999920527, val_accuracy: 0.2438\n",
            "=======================================\n",
            "epoch #: 1, train_loss: 2.0103321541468304, val_loss: 1.9459406703948974\n",
            "train_accuracy: 0.2986666666507721, val_accuracy: 0.2978\n",
            "=======================================\n",
            "epoch #: 2, train_loss: 1.8378089210510253, val_loss: 1.7591144012451172\n",
            "train_accuracy: 0.342, val_accuracy: 0.3522\n",
            "=======================================\n",
            "epoch #: 3, train_loss: 1.7249128558476765, val_loss: 1.677977531814575\n",
            "train_accuracy: 0.3646, val_accuracy: 0.3856\n",
            "=======================================\n",
            "epoch #: 4, train_loss: 1.6858721939086914, val_loss: 1.6395804386138917\n",
            "train_accuracy: 0.3923999999920527, val_accuracy: 0.411\n",
            "=======================================\n",
            "epoch #: 5, train_loss: 1.642309425163269, val_loss: 1.6485026245117187\n",
            "train_accuracy: 0.4048, val_accuracy: 0.3914\n",
            "=======================================\n",
            "epoch #: 6, train_loss: 1.6083005155563355, val_loss: 1.5752708694458009\n",
            "train_accuracy: 0.42086666668256123, val_accuracy: 0.4236\n",
            "=======================================\n",
            "epoch #: 7, train_loss: 1.5665836796442667, val_loss: 1.5614890605926515\n",
            "train_accuracy: 0.4424000000158946, val_accuracy: 0.44\n",
            "=======================================\n",
            "epoch #: 8, train_loss: 1.538659762763977, val_loss: 1.5301744354248046\n",
            "train_accuracy: 0.4513333333492279, val_accuracy: 0.451\n",
            "=======================================\n",
            "epoch #: 9, train_loss: 1.524523797607422, val_loss: 1.5265403036117553\n",
            "train_accuracy: 0.462, val_accuracy: 0.4404\n",
            "=======================================\n"
          ],
          "name": "stdout"
        }
      ]
    },
    {
      "cell_type": "markdown",
      "metadata": {
        "id": "kBooOqm-ZTph"
      },
      "source": [
        "This learning rate is working much better than the previous one!"
      ]
    },
    {
      "cell_type": "code",
      "metadata": {
        "id": "ikzRuDiSRjJJ",
        "outputId": "7d8cfdb7-89e3-4872-ac7e-e830732567b8",
        "colab": {
          "base_uri": "https://localhost:8080/",
          "height": 302
        }
      },
      "source": [
        "plt.plot(train_losses, range(len(train_losses)), 'b-', label='train' )\n",
        "plt.plot(test_losses, range(len(test_losses)), 'g--', label='test')\n",
        "plt.xlabel('epoch')\n",
        "plt.ylabel('loss')\n",
        "plt.title('Model: train_vs_test, lr=0.05')\n",
        "plt.legend()\n",
        "plt.show()"
      ],
      "execution_count": 131,
      "outputs": [
        {
          "output_type": "display_data",
          "data": {
            "image/png": "[encoded data removed]",
            "text/plain": [
              "<Figure size 432x288 with 1 Axes>"
            ]
          },
          "metadata": {
            "tags": [],
            "needs_background": "light"
          }
        }
      ]
    },
    {
      "cell_type": "code",
      "metadata": {
        "id": "j6MUomrCRhNr",
        "outputId": "2b21a7aa-a3ed-4783-f944-28d7c6b62277",
        "colab": {
          "base_uri": "https://localhost:8080/",
          "height": 1000
        }
      },
      "source": [
        "for layer in model.children():\n",
        "   if hasattr(layer, 'reset_parameters'):\n",
        "       layer.reset_parameters()\n",
        "\n",
        "momentum = 0.9\n",
        "lr = 0.001  # learning rate\n",
        "epochs = 20\n",
        "opt = optim.SGD(model.parameters(), lr=lr, momentum=momentum)\n",
        "\n",
        "train_losses, test_losses = fit(epochs, model, loss_func, opt, train_dl, test_dl)"
      ],
      "execution_count": 132,
      "outputs": [
        {
          "output_type": "stream",
          "text": [
            "epoch #: 0, train_loss: 2.2984830097198485, val_loss: 2.290761209869385\n",
            "train_accuracy: 0.1092, val_accuracy: 0.1568\n",
            "=======================================\n",
            "epoch #: 1, train_loss: 2.286902719624837, val_loss: 2.283383158493042\n",
            "train_accuracy: 0.15413333334128063, val_accuracy: 0.171\n",
            "=======================================\n",
            "epoch #: 2, train_loss: 2.279693489964803, val_loss: 2.276878846740723\n",
            "train_accuracy: 0.17926666666666666, val_accuracy: 0.1924\n",
            "=======================================\n",
            "epoch #: 3, train_loss: 2.272614423497518, val_loss: 2.270512446975708\n",
            "train_accuracy: 0.18799999998410544, val_accuracy: 0.202\n",
            "=======================================\n",
            "epoch #: 4, train_loss: 2.2635555866241455, val_loss: 2.260810694885254\n",
            "train_accuracy: 0.19660000000397365, val_accuracy: 0.2028\n",
            "=======================================\n",
            "epoch #: 5, train_loss: 2.2529517042795817, val_loss: 2.2527031330108644\n",
            "train_accuracy: 0.20226666666666668, val_accuracy: 0.2152\n",
            "=======================================\n",
            "epoch #: 6, train_loss: 2.2433364435831704, val_loss: 2.2454196990966797\n",
            "train_accuracy: 0.20953333333333332, val_accuracy: 0.214\n",
            "=======================================\n",
            "epoch #: 7, train_loss: 2.2342739218393963, val_loss: 2.2382836177825927\n",
            "train_accuracy: 0.21653333331743876, val_accuracy: 0.2286\n",
            "=======================================\n",
            "epoch #: 8, train_loss: 2.225413358179728, val_loss: 2.224198246383667\n",
            "train_accuracy: 0.2254000000079473, val_accuracy: 0.227\n",
            "=======================================\n",
            "epoch #: 9, train_loss: 2.2033798754374185, val_loss: 2.1955523483276367\n",
            "train_accuracy: 0.22760000001589456, val_accuracy: 0.2332\n",
            "=======================================\n",
            "epoch #: 10, train_loss: 2.1828420738220213, val_loss: 2.1757424488067625\n",
            "train_accuracy: 0.23586666668256123, val_accuracy: 0.2398\n",
            "=======================================\n",
            "epoch #: 11, train_loss: 2.166128033065796, val_loss: 2.1605450717926025\n",
            "train_accuracy: 0.24253333333333332, val_accuracy: 0.2368\n",
            "=======================================\n",
            "epoch #: 12, train_loss: 2.1381151747385663, val_loss: 2.1040707019805907\n",
            "train_accuracy: 0.24606666665871937, val_accuracy: 0.2596\n",
            "=======================================\n",
            "epoch #: 13, train_loss: 2.077145806757609, val_loss: 2.064025757598877\n",
            "train_accuracy: 0.25566666667461396, val_accuracy: 0.26\n",
            "=======================================\n",
            "epoch #: 14, train_loss: 2.0443699717203776, val_loss: 2.03718743019104\n",
            "train_accuracy: 0.265, val_accuracy: 0.2708\n",
            "=======================================\n",
            "epoch #: 15, train_loss: 2.0221535139719644, val_loss: 2.018480089569092\n",
            "train_accuracy: 0.2723999999841054, val_accuracy: 0.2888\n",
            "=======================================\n",
            "epoch #: 16, train_loss: 2.0055684681574504, val_loss: 2.004282258605957\n",
            "train_accuracy: 0.28279999998410543, val_accuracy: 0.288\n",
            "=======================================\n",
            "epoch #: 17, train_loss: 1.991685465367635, val_loss: 1.9900739952087403\n",
            "train_accuracy: 0.28333333334128064, val_accuracy: 0.297\n",
            "=======================================\n",
            "epoch #: 18, train_loss: 1.9797149626413981, val_loss: 1.980754693222046\n",
            "train_accuracy: 0.2896666666666667, val_accuracy: 0.2962\n",
            "=======================================\n",
            "epoch #: 19, train_loss: 1.9693105880737305, val_loss: 1.96965006980896\n",
            "train_accuracy: 0.291, val_accuracy: 0.2942\n",
            "=======================================\n"
          ],
          "name": "stdout"
        }
      ]
    },
    {
      "cell_type": "code",
      "metadata": {
        "id": "yxMx52qERtcC",
        "outputId": "969b1fba-c50a-49dd-d11b-c0c6a008c6cc",
        "colab": {
          "base_uri": "https://localhost:8080/",
          "height": 302
        }
      },
      "source": [
        "plt.plot(train_losses, range(len(train_losses)), 'b-', label='train' )\n",
        "plt.plot(test_losses, range(len(test_losses)), 'g--', label='test')\n",
        "plt.xlabel('epoch')\n",
        "plt.ylabel('loss')\n",
        "plt.title('Model : train_vs_test, lr=0.001')\n",
        "plt.legend()\n",
        "plt.show()"
      ],
      "execution_count": 133,
      "outputs": [
        {
          "output_type": "display_data",
          "data": {
            "image/png": "[encoded data removed]",
            "text/plain": [
              "<Figure size 432x288 with 1 Axes>"
            ]
          },
          "metadata": {
            "tags": [],
            "needs_background": "light"
          }
        }
      ]
    },
    {
      "cell_type": "code",
      "metadata": {
        "id": "_GSTf9CPVT_5",
        "outputId": "496ed4f0-652c-4483-ec5d-5bfaa590b268",
        "colab": {
          "base_uri": "https://localhost:8080/",
          "height": 1000
        }
      },
      "source": [
        "for layer in model.children():\n",
        "   if hasattr(layer, 'reset_parameters'):\n",
        "       layer.reset_parameters()\n",
        "\n",
        "momentum = 0.5\n",
        "lr = 0.05  # learning rate\n",
        "epochs = 20\n",
        "opt = optim.SGD(model.parameters(), lr=lr, momentum=momentum)\n",
        "\n",
        "train_losses, test_losses = fit(epochs, model, loss_func, opt, train_dl, test_dl)"
      ],
      "execution_count": 134,
      "outputs": [
        {
          "output_type": "stream",
          "text": [
            "epoch #: 0, train_loss: 2.249336456680298, val_loss: 2.2035163074493407\n",
            "train_accuracy: 0.20213333331743877, val_accuracy: 0.2274\n",
            "=======================================\n",
            "epoch #: 1, train_loss: 2.1357764709472655, val_loss: 2.0911544044494628\n",
            "train_accuracy: 0.2521333333333333, val_accuracy: 0.265\n",
            "=======================================\n",
            "epoch #: 2, train_loss: 2.0613379079818728, val_loss: 1.9770293077468872\n",
            "train_accuracy: 0.2847333333174388, val_accuracy: 0.2698\n",
            "=======================================\n",
            "epoch #: 3, train_loss: 1.9068579023361205, val_loss: 1.8775856044769288\n",
            "train_accuracy: 0.3233999999841054, val_accuracy: 0.3184\n",
            "=======================================\n",
            "epoch #: 4, train_loss: 1.8335252893447875, val_loss: 1.8237731464385987\n",
            "train_accuracy: 0.34253333333333336, val_accuracy: 0.3318\n",
            "=======================================\n",
            "epoch #: 5, train_loss: 1.783762150891622, val_loss: 1.7843626745224\n",
            "train_accuracy: 0.3646, val_accuracy: 0.33\n",
            "=======================================\n",
            "epoch #: 6, train_loss: 1.7526223329544068, val_loss: 1.7450536378860473\n",
            "train_accuracy: 0.3712, val_accuracy: 0.3544\n",
            "=======================================\n",
            "epoch #: 7, train_loss: 1.7294627758661907, val_loss: 1.7381271408081054\n",
            "train_accuracy: 0.3825333333492279, val_accuracy: 0.343\n",
            "=======================================\n",
            "epoch #: 8, train_loss: 1.711259439086914, val_loss: 1.6961232788085938\n",
            "train_accuracy: 0.3814666666666667, val_accuracy: 0.3744\n",
            "=======================================\n",
            "epoch #: 9, train_loss: 1.6942008295059203, val_loss: 1.6828355796813965\n",
            "train_accuracy: 0.39793333331743874, val_accuracy: 0.3844\n",
            "=======================================\n",
            "epoch #: 10, train_loss: 1.6761813725789387, val_loss: 1.699338691329956\n",
            "train_accuracy: 0.4045333333651225, val_accuracy: 0.3552\n",
            "=======================================\n",
            "epoch #: 11, train_loss: 1.6634787974675496, val_loss: 1.662709920501709\n",
            "train_accuracy: 0.4079333333333333, val_accuracy: 0.385\n",
            "=======================================\n",
            "epoch #: 12, train_loss: 1.6517039218266805, val_loss: 1.6620399103164674\n",
            "train_accuracy: 0.4123333333015442, val_accuracy: 0.3816\n",
            "=======================================\n",
            "epoch #: 13, train_loss: 1.6396381561279296, val_loss: 1.67298178691864\n",
            "train_accuracy: 0.4230666666348775, val_accuracy: 0.379\n",
            "=======================================\n",
            "epoch #: 14, train_loss: 1.6264067184448243, val_loss: 1.6668302640914916\n",
            "train_accuracy: 0.43080000003178914, val_accuracy: 0.3822\n",
            "=======================================\n",
            "epoch #: 15, train_loss: 1.6135258962631225, val_loss: 1.6118227031707764\n",
            "train_accuracy: 0.43306666666666666, val_accuracy: 0.4188\n",
            "=======================================\n",
            "epoch #: 16, train_loss: 1.5979174043655395, val_loss: 1.6328769618988037\n",
            "train_accuracy: 0.4420666666507721, val_accuracy: 0.393\n",
            "=======================================\n",
            "epoch #: 17, train_loss: 1.5874754869461059, val_loss: 1.560841905784607\n",
            "train_accuracy: 0.4486666666507721, val_accuracy: 0.4496\n",
            "=======================================\n",
            "epoch #: 18, train_loss: 1.573877755800883, val_loss: 1.5656039505004882\n",
            "train_accuracy: 0.45853333330154417, val_accuracy: 0.4416\n",
            "=======================================\n",
            "epoch #: 19, train_loss: 1.5609877885818482, val_loss: 1.546289102935791\n",
            "train_accuracy: 0.45746666668256125, val_accuracy: 0.4508\n",
            "=======================================\n"
          ],
          "name": "stdout"
        }
      ]
    },
    {
      "cell_type": "code",
      "metadata": {
        "id": "PACb5WfwaBFB"
      },
      "source": [
        "plt.plot(train_losses, range(len(train_losses)), 'b-', label='train' )\n",
        "plt.plot(test_losses, range(len(test_losses)), 'g--', label='test')\n",
        "plt.xlabel('epoch')\n",
        "plt.ylabel('loss')\n",
        "plt.title('Model : train_vs_test, lr=0.001')\n",
        "plt.legend()\n",
        "plt.show()"
      ],
      "execution_count": null,
      "outputs": []
    },
    {
      "cell_type": "code",
      "metadata": {
        "id": "atrlDkvpdL3Y"
      },
      "source": [
        ""
      ],
      "execution_count": null,
      "outputs": []
    }
  ]
}